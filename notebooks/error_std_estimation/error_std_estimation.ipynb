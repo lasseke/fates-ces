{
 "cells": [
  {
   "cell_type": "markdown",
   "metadata": {},
   "source": [
    "# Estimation of the observation error standard deviation"
   ]
  },
  {
   "cell_type": "code",
   "execution_count": 1,
   "metadata": {},
   "outputs": [],
   "source": [
    "import pandas as pd\n",
    "import numpy as np\n",
    "from fatescal.tools import unit_conversion as uc\n",
    "from fatescal.config import OBS_DATA_FILE_NAME, OBS_DATE_COLUMN_NAME, \\\n",
    "    PATH_TO_OBS_DATASET, FORCING_YR_START, FORCING_YR_END, VARIABLES_TO_ASSIMILATE"
   ]
  },
  {
   "cell_type": "code",
   "execution_count": 2,
   "metadata": {},
   "outputs": [
    {
     "name": "stdout",
     "output_type": "stream",
     "text": [
      "                  samptime    GPP  ET_gapf\n",
      "122692 2004-01-01 00:00:00  0.064    0.011\n",
      "122693 2004-01-01 00:30:00 -0.157   -0.122\n",
      "122694 2004-01-01 01:00:00 -0.357   -0.209\n",
      "122695 2004-01-01 01:30:00 -0.154   -0.166\n",
      "122696 2004-01-01 02:00:00  0.011   -0.177\n",
      "                  samptime    GPP  ET_gapf\n",
      "297984 2013-12-30 22:00:00 -1.086    0.127\n",
      "297985 2013-12-30 22:30:00 -0.562    0.071\n",
      "297986 2013-12-30 23:00:00 -0.846    0.120\n",
      "297987 2013-12-30 23:30:00  0.227    0.259\n",
      "297988 2013-12-31 00:00:00 -0.641    0.099\n"
     ]
    }
   ],
   "source": [
    "observations_df = pd.read_csv(PATH_TO_OBS_DATASET / OBS_DATA_FILE_NAME)\n",
    "observations_df[OBS_DATE_COLUMN_NAME] = pd.to_datetime(\n",
    "    observations_df[OBS_DATE_COLUMN_NAME],\n",
    "    utc=True\n",
    ").dt.tz_localize(None)  # Remove timezone information\n",
    "\n",
    "start_date = np.datetime64(f\"{FORCING_YR_START}-01-01\")\n",
    "end_date = np.datetime64(f\"{FORCING_YR_END}-12-31\")\n",
    "\n",
    "date_mask = (observations_df[OBS_DATE_COLUMN_NAME] >= start_date) & \\\n",
    "    (observations_df[OBS_DATE_COLUMN_NAME] <= end_date)\n",
    "\n",
    "observations_df = observations_df.loc[date_mask]\n",
    "print(observations_df.head())\n",
    "print(observations_df.tail())"
   ]
  },
  {
   "cell_type": "markdown",
   "metadata": {},
   "source": [
    "#### Convert to model unit"
   ]
  },
  {
   "cell_type": "code",
   "execution_count": 3,
   "metadata": {},
   "outputs": [
    {
     "data": {
      "text/html": [
       "<div>\n",
       "<style scoped>\n",
       "    .dataframe tbody tr th:only-of-type {\n",
       "        vertical-align: middle;\n",
       "    }\n",
       "\n",
       "    .dataframe tbody tr th {\n",
       "        vertical-align: top;\n",
       "    }\n",
       "\n",
       "    .dataframe thead th {\n",
       "        text-align: right;\n",
       "    }\n",
       "</style>\n",
       "<table border=\"1\" class=\"dataframe\">\n",
       "  <thead>\n",
       "    <tr style=\"text-align: right;\">\n",
       "      <th></th>\n",
       "      <th>samptime</th>\n",
       "      <th>GPP</th>\n",
       "      <th>ET_gapf</th>\n",
       "    </tr>\n",
       "  </thead>\n",
       "  <tbody>\n",
       "    <tr>\n",
       "      <th>122692</th>\n",
       "      <td>2004-01-01 00:00:00</td>\n",
       "      <td>7.687040e-10</td>\n",
       "      <td>1.981681e-07</td>\n",
       "    </tr>\n",
       "    <tr>\n",
       "      <th>122693</th>\n",
       "      <td>2004-01-01 00:30:00</td>\n",
       "      <td>-1.885727e-09</td>\n",
       "      <td>-2.197864e-06</td>\n",
       "    </tr>\n",
       "    <tr>\n",
       "      <th>122694</th>\n",
       "      <td>2004-01-01 01:00:00</td>\n",
       "      <td>-4.287927e-09</td>\n",
       "      <td>-3.765194e-06</td>\n",
       "    </tr>\n",
       "    <tr>\n",
       "      <th>122695</th>\n",
       "      <td>2004-01-01 01:30:00</td>\n",
       "      <td>-1.849694e-09</td>\n",
       "      <td>-2.990536e-06</td>\n",
       "    </tr>\n",
       "    <tr>\n",
       "      <th>122696</th>\n",
       "      <td>2004-01-01 02:00:00</td>\n",
       "      <td>1.321210e-10</td>\n",
       "      <td>-3.188705e-06</td>\n",
       "    </tr>\n",
       "    <tr>\n",
       "      <th>...</th>\n",
       "      <td>...</td>\n",
       "      <td>...</td>\n",
       "      <td>...</td>\n",
       "    </tr>\n",
       "    <tr>\n",
       "      <th>297984</th>\n",
       "      <td>2013-12-30 22:00:00</td>\n",
       "      <td>-1.304395e-08</td>\n",
       "      <td>2.287941e-06</td>\n",
       "    </tr>\n",
       "    <tr>\n",
       "      <th>297985</th>\n",
       "      <td>2013-12-30 22:30:00</td>\n",
       "      <td>-6.750182e-09</td>\n",
       "      <td>1.279085e-06</td>\n",
       "    </tr>\n",
       "    <tr>\n",
       "      <th>297986</th>\n",
       "      <td>2013-12-30 23:00:00</td>\n",
       "      <td>-1.016131e-08</td>\n",
       "      <td>2.161834e-06</td>\n",
       "    </tr>\n",
       "    <tr>\n",
       "      <th>297987</th>\n",
       "      <td>2013-12-30 23:30:00</td>\n",
       "      <td>2.726497e-09</td>\n",
       "      <td>4.665958e-06</td>\n",
       "    </tr>\n",
       "    <tr>\n",
       "      <th>297988</th>\n",
       "      <td>2013-12-31 00:00:00</td>\n",
       "      <td>-7.699051e-09</td>\n",
       "      <td>1.783513e-06</td>\n",
       "    </tr>\n",
       "  </tbody>\n",
       "</table>\n",
       "<p>175297 rows × 3 columns</p>\n",
       "</div>"
      ],
      "text/plain": [
       "                  samptime           GPP       ET_gapf\n",
       "122692 2004-01-01 00:00:00  7.687040e-10  1.981681e-07\n",
       "122693 2004-01-01 00:30:00 -1.885727e-09 -2.197864e-06\n",
       "122694 2004-01-01 01:00:00 -4.287927e-09 -3.765194e-06\n",
       "122695 2004-01-01 01:30:00 -1.849694e-09 -2.990536e-06\n",
       "122696 2004-01-01 02:00:00  1.321210e-10 -3.188705e-06\n",
       "...                    ...           ...           ...\n",
       "297984 2013-12-30 22:00:00 -1.304395e-08  2.287941e-06\n",
       "297985 2013-12-30 22:30:00 -6.750182e-09  1.279085e-06\n",
       "297986 2013-12-30 23:00:00 -1.016131e-08  2.161834e-06\n",
       "297987 2013-12-30 23:30:00  2.726497e-09  4.665958e-06\n",
       "297988 2013-12-31 00:00:00 -7.699051e-09  1.783513e-06\n",
       "\n",
       "[175297 rows x 3 columns]"
      ]
     },
     "execution_count": 3,
     "metadata": {},
     "output_type": "execute_result"
    }
   ],
   "source": [
    "converted_observations_df = pd.DataFrame(columns=observations_df.columns)\n",
    "converted_observations_df[OBS_DATE_COLUMN_NAME] = \\\n",
    "    observations_df[OBS_DATE_COLUMN_NAME]\n",
    "\n",
    "for var_dict in VARIABLES_TO_ASSIMILATE:\n",
    "    converted_observations_df[var_dict['Observed']['csv_col_name']] = \\\n",
    "        uc.convert_unit(\n",
    "            values=observations_df[var_dict['Observed']['csv_col_name']],\n",
    "            unit_in=var_dict['Observed']['unit'],\n",
    "            unit_out=var_dict['CLM-FATES']['unit']\n",
    "        )\n",
    "\n",
    "converted_observations_df"
   ]
  },
  {
   "cell_type": "markdown",
   "metadata": {},
   "source": [
    "### Define yearly quantile threshold"
   ]
  },
  {
   "cell_type": "code",
   "execution_count": 4,
   "metadata": {},
   "outputs": [
    {
     "data": {
      "text/plain": [
       "GPP        2.517929e-07\n",
       "ET_gapf    8.758418e-05\n",
       "dtype: float64"
      ]
     },
     "execution_count": 4,
     "metadata": {},
     "output_type": "execute_result"
    }
   ],
   "source": [
    "quantile = 0.99\n",
    "\n",
    "def get_array_quantile(array):\n",
    "    '''Custom function to calculate quantile'''\n",
    "    return np.quantile(array, quantile)\n",
    "\n",
    "yearly_quantiles_df = converted_observations_df.resample(\n",
    "    '1Y', on=OBS_DATE_COLUMN_NAME\n",
    ").apply(get_array_quantile).reset_index(drop=True)\n",
    "\n",
    "mean_yearly_quantiles_df = yearly_quantiles_df.apply(lambda x: np.mean(x)) \n",
    "mean_yearly_quantiles_df"
   ]
  },
  {
   "cell_type": "markdown",
   "metadata": {},
   "source": [
    "### Define error standard deviation and calculate absolute value"
   ]
  },
  {
   "cell_type": "code",
   "execution_count": 5,
   "metadata": {},
   "outputs": [
    {
     "name": "stdout",
     "output_type": "stream",
     "text": [
      "GPP        3.776893e-08\n",
      "ET_gapf    1.313763e-05\n",
      "dtype: float64\n"
     ]
    }
   ],
   "source": [
    "# No reliable values found in literature - based on expert opinion\n",
    "error_std_as_fraction = 0.15\n",
    "print(mean_yearly_quantiles_df * error_std_as_fraction)"
   ]
  }
 ],
 "metadata": {
  "kernelspec": {
   "display_name": "Python 3.11.0 ('fatescal-env': conda)",
   "language": "python",
   "name": "python3"
  },
  "language_info": {
   "codemirror_mode": {
    "name": "ipython",
    "version": 3
   },
   "file_extension": ".py",
   "mimetype": "text/x-python",
   "name": "python",
   "nbconvert_exporter": "python",
   "pygments_lexer": "ipython3",
   "version": "3.11.0"
  },
  "orig_nbformat": 4,
  "vscode": {
   "interpreter": {
    "hash": "eb7fc41b083d816a1166911bb4f5c757c19859416e9a0fea717739e87e80bffc"
   }
  }
 },
 "nbformat": 4,
 "nbformat_minor": 2
}
